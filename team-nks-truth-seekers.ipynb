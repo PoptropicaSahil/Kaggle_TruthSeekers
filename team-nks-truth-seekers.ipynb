{
 "cells": [
  {
   "cell_type": "code",
   "execution_count": 1,
   "id": "acfece7d",
   "metadata": {
    "_cell_guid": "b1076dfc-b9ad-4769-8c92-a6c4dae69d19",
    "_uuid": "8f2839f25d086af736a60e9eeb907d3b93b6e0e5",
    "execution": {
     "iopub.execute_input": "2023-08-10T09:50:56.276962Z",
     "iopub.status.busy": "2023-08-10T09:50:56.276545Z",
     "iopub.status.idle": "2023-08-10T09:50:58.108361Z",
     "shell.execute_reply": "2023-08-10T09:50:58.107493Z"
    },
    "papermill": {
     "duration": 1.842363,
     "end_time": "2023-08-10T09:50:58.110744",
     "exception": false,
     "start_time": "2023-08-10T09:50:56.268381",
     "status": "completed"
    },
    "tags": []
   },
   "outputs": [
    {
     "name": "stderr",
     "output_type": "stream",
     "text": [
      "/opt/conda/lib/python3.10/site-packages/scipy/__init__.py:146: UserWarning: A NumPy version >=1.16.5 and <1.23.0 is required for this version of SciPy (detected version 1.23.5\n",
      "  warnings.warn(f\"A NumPy version >={np_minversion} and <{np_maxversion}\"\n"
     ]
    },
    {
     "data": {
      "text/plain": [
       "\"\\nThe evaluation metric used for this Balanced Accuracy Score.\\nThe participants are expected to predict whether the news is 'Real : 1' or 'Fake : 0'\\n\""
      ]
     },
     "execution_count": 1,
     "metadata": {},
     "output_type": "execute_result"
    }
   ],
   "source": [
    "import pandas as pd\n",
    "import numpy as np\n",
    "import seaborn as sns\n",
    "import matplotlib.pyplot as plt\n",
    "from sklearn.model_selection import train_test_split\n",
    "from sklearn.metrics import accuracy_score\n",
    "from sklearn.metrics import classification_report\n",
    "import re\n",
    "import string\n",
    "\n",
    "import warnings\n",
    "warnings.filterwarnings(\"ignore\")\n",
    "\n",
    "'''\n",
    "The evaluation metric used for this Balanced Accuracy Score.\n",
    "The participants are expected to predict whether the news is 'Real : 1' or 'Fake : 0'\n",
    "'''"
   ]
  },
  {
   "cell_type": "code",
   "execution_count": 2,
   "id": "a0a7f7a5",
   "metadata": {
    "execution": {
     "iopub.execute_input": "2023-08-10T09:50:58.124960Z",
     "iopub.status.busy": "2023-08-10T09:50:58.124223Z",
     "iopub.status.idle": "2023-08-10T09:50:59.863294Z",
     "shell.execute_reply": "2023-08-10T09:50:59.861925Z"
    },
    "papermill": {
     "duration": 1.749654,
     "end_time": "2023-08-10T09:50:59.866294",
     "exception": false,
     "start_time": "2023-08-10T09:50:58.116640",
     "status": "completed"
    },
    "tags": []
   },
   "outputs": [
    {
     "data": {
      "text/html": [
       "<div>\n",
       "<style scoped>\n",
       "    .dataframe tbody tr th:only-of-type {\n",
       "        vertical-align: middle;\n",
       "    }\n",
       "\n",
       "    .dataframe tbody tr th {\n",
       "        vertical-align: top;\n",
       "    }\n",
       "\n",
       "    .dataframe thead th {\n",
       "        text-align: right;\n",
       "    }\n",
       "</style>\n",
       "<table border=\"1\" class=\"dataframe\">\n",
       "  <thead>\n",
       "    <tr style=\"text-align: right;\">\n",
       "      <th></th>\n",
       "      <th>id</th>\n",
       "      <th>title</th>\n",
       "      <th>text</th>\n",
       "      <th>label</th>\n",
       "      <th>all</th>\n",
       "    </tr>\n",
       "  </thead>\n",
       "  <tbody>\n",
       "    <tr>\n",
       "      <th>0</th>\n",
       "      <td>18</td>\n",
       "      <td>MAJOR LIBERAL RAG RELUCTANTLY PUBLISHES Articl...</td>\n",
       "      <td>The Atlantic, a publication that wouldn t know...</td>\n",
       "      <td>1</td>\n",
       "      <td>MAJOR LIBERAL RAG RELUCTANTLY PUBLISHES Articl...</td>\n",
       "    </tr>\n",
       "    <tr>\n",
       "      <th>1</th>\n",
       "      <td>48</td>\n",
       "      <td>AT&amp;T, Time Warner and the Death of Privacy</td>\n",
       "      <td>AT&amp;T, Time Warner and the Death of Privacy   \\...</td>\n",
       "      <td>1</td>\n",
       "      <td>AT&amp;T, Time Warner and the Death of PrivacyAT&amp;T...</td>\n",
       "    </tr>\n",
       "    <tr>\n",
       "      <th>2</th>\n",
       "      <td>104</td>\n",
       "      <td>The World Sees a Diminished America</td>\n",
       "      <td>The World Sees a Diminished America November 1...</td>\n",
       "      <td>1</td>\n",
       "      <td>The World Sees a Diminished AmericaThe World S...</td>\n",
       "    </tr>\n",
       "    <tr>\n",
       "      <th>3</th>\n",
       "      <td>145</td>\n",
       "      <td>The Bolton Threat to Trump’s Middle East Policy</td>\n",
       "      <td>Written by Gareth Porter   Post-election comme...</td>\n",
       "      <td>1</td>\n",
       "      <td>The Bolton Threat to Trump’s Middle East Polic...</td>\n",
       "    </tr>\n",
       "    <tr>\n",
       "      <th>4</th>\n",
       "      <td>146</td>\n",
       "      <td>Life at migrant centers in Germany: RT talks t...</td>\n",
       "      <td>Life at migrant centers in Germany: RT talks t...</td>\n",
       "      <td>1</td>\n",
       "      <td>Life at migrant centers in Germany: RT talks t...</td>\n",
       "    </tr>\n",
       "    <tr>\n",
       "      <th>5</th>\n",
       "      <td>256</td>\n",
       "      <td>Liberalism Past: Not Being an Idiot</td>\n",
       "      <td>by Outis Philalithopoulos By Outis Philalithop...</td>\n",
       "      <td>1</td>\n",
       "      <td>Liberalism Past: Not Being an Idiotby Outis Ph...</td>\n",
       "    </tr>\n",
       "    <tr>\n",
       "      <th>6</th>\n",
       "      <td>286</td>\n",
       "      <td>THE LIST OF 65 MAINSTREAM MEDIA “Journalists” ...</td>\n",
       "      <td>Many of the hacks on this list like Rachel Mad...</td>\n",
       "      <td>1</td>\n",
       "      <td>THE LIST OF 65 MAINSTREAM MEDIA “Journalists” ...</td>\n",
       "    </tr>\n",
       "    <tr>\n",
       "      <th>7</th>\n",
       "      <td>326</td>\n",
       "      <td>ILLEGAL INVASION CONTINUES: NYC RAMPING UP TO ...</td>\n",
       "      <td>Insane! This really is the definition of insan...</td>\n",
       "      <td>1</td>\n",
       "      <td>ILLEGAL INVASION CONTINUES: NYC RAMPING UP TO ...</td>\n",
       "    </tr>\n",
       "    <tr>\n",
       "      <th>8</th>\n",
       "      <td>400</td>\n",
       "      <td>IS TIM ALLEN’S “Last Man Standing” About To Be...</td>\n",
       "      <td>Tim Allen took to Twitter to express his disap...</td>\n",
       "      <td>1</td>\n",
       "      <td>IS TIM ALLEN’S “Last Man Standing” About To Be...</td>\n",
       "    </tr>\n",
       "    <tr>\n",
       "      <th>9</th>\n",
       "      <td>561</td>\n",
       "      <td>World's Oldest Person Had Smoked For 76 Years</td>\n",
       "      <td>Report Copyright Violation World's Oldest Pers...</td>\n",
       "      <td>1</td>\n",
       "      <td>World's Oldest Person Had Smoked For 76 YearsR...</td>\n",
       "    </tr>\n",
       "  </tbody>\n",
       "</table>\n",
       "</div>"
      ],
      "text/plain": [
       "    id                                              title  \\\n",
       "0   18  MAJOR LIBERAL RAG RELUCTANTLY PUBLISHES Articl...   \n",
       "1   48         AT&T, Time Warner and the Death of Privacy   \n",
       "2  104                The World Sees a Diminished America   \n",
       "3  145    The Bolton Threat to Trump’s Middle East Policy   \n",
       "4  146  Life at migrant centers in Germany: RT talks t...   \n",
       "5  256                Liberalism Past: Not Being an Idiot   \n",
       "6  286  THE LIST OF 65 MAINSTREAM MEDIA “Journalists” ...   \n",
       "7  326  ILLEGAL INVASION CONTINUES: NYC RAMPING UP TO ...   \n",
       "8  400  IS TIM ALLEN’S “Last Man Standing” About To Be...   \n",
       "9  561      World's Oldest Person Had Smoked For 76 Years   \n",
       "\n",
       "                                                text  label  \\\n",
       "0  The Atlantic, a publication that wouldn t know...      1   \n",
       "1  AT&T, Time Warner and the Death of Privacy   \\...      1   \n",
       "2  The World Sees a Diminished America November 1...      1   \n",
       "3  Written by Gareth Porter   Post-election comme...      1   \n",
       "4  Life at migrant centers in Germany: RT talks t...      1   \n",
       "5  by Outis Philalithopoulos By Outis Philalithop...      1   \n",
       "6  Many of the hacks on this list like Rachel Mad...      1   \n",
       "7  Insane! This really is the definition of insan...      1   \n",
       "8  Tim Allen took to Twitter to express his disap...      1   \n",
       "9  Report Copyright Violation World's Oldest Pers...      1   \n",
       "\n",
       "                                                 all  \n",
       "0  MAJOR LIBERAL RAG RELUCTANTLY PUBLISHES Articl...  \n",
       "1  AT&T, Time Warner and the Death of PrivacyAT&T...  \n",
       "2  The World Sees a Diminished AmericaThe World S...  \n",
       "3  The Bolton Threat to Trump’s Middle East Polic...  \n",
       "4  Life at migrant centers in Germany: RT talks t...  \n",
       "5  Liberalism Past: Not Being an Idiotby Outis Ph...  \n",
       "6  THE LIST OF 65 MAINSTREAM MEDIA “Journalists” ...  \n",
       "7  ILLEGAL INVASION CONTINUES: NYC RAMPING UP TO ...  \n",
       "8  IS TIM ALLEN’S “Last Man Standing” About To Be...  \n",
       "9  World's Oldest Person Had Smoked For 76 YearsR...  "
      ]
     },
     "execution_count": 2,
     "metadata": {},
     "output_type": "execute_result"
    }
   ],
   "source": [
    "df = pd.read_csv('/kaggle/input/truth-seekers/train.csv')\n",
    "df.head(10)"
   ]
  },
  {
   "cell_type": "code",
   "execution_count": 3,
   "id": "45184f2b",
   "metadata": {
    "execution": {
     "iopub.execute_input": "2023-08-10T09:50:59.880104Z",
     "iopub.status.busy": "2023-08-10T09:50:59.879702Z",
     "iopub.status.idle": "2023-08-10T09:50:59.893823Z",
     "shell.execute_reply": "2023-08-10T09:50:59.892550Z"
    },
    "papermill": {
     "duration": 0.023729,
     "end_time": "2023-08-10T09:50:59.896309",
     "exception": false,
     "start_time": "2023-08-10T09:50:59.872580",
     "status": "completed"
    },
    "tags": []
   },
   "outputs": [
    {
     "data": {
      "text/plain": [
       "1    8250\n",
       "0    1300\n",
       "Name: label, dtype: int64"
      ]
     },
     "execution_count": 3,
     "metadata": {},
     "output_type": "execute_result"
    }
   ],
   "source": [
    "df['label'].value_counts()"
   ]
  },
  {
   "cell_type": "code",
   "execution_count": 4,
   "id": "cc32a0f4",
   "metadata": {
    "execution": {
     "iopub.execute_input": "2023-08-10T09:50:59.909986Z",
     "iopub.status.busy": "2023-08-10T09:50:59.909611Z",
     "iopub.status.idle": "2023-08-10T09:50:59.920214Z",
     "shell.execute_reply": "2023-08-10T09:50:59.919194Z"
    },
    "papermill": {
     "duration": 0.020654,
     "end_time": "2023-08-10T09:50:59.922990",
     "exception": false,
     "start_time": "2023-08-10T09:50:59.902336",
     "status": "completed"
    },
    "tags": []
   },
   "outputs": [],
   "source": [
    "df=df.sample(frac=1)"
   ]
  },
  {
   "cell_type": "code",
   "execution_count": 5,
   "id": "8fd0aa9f",
   "metadata": {
    "execution": {
     "iopub.execute_input": "2023-08-10T09:50:59.936885Z",
     "iopub.status.busy": "2023-08-10T09:50:59.936512Z",
     "iopub.status.idle": "2023-08-10T10:03:12.865538Z",
     "shell.execute_reply": "2023-08-10T10:03:12.864067Z"
    },
    "papermill": {
     "duration": 732.940038,
     "end_time": "2023-08-10T10:03:12.869006",
     "exception": false,
     "start_time": "2023-08-10T09:50:59.928968",
     "status": "completed"
    },
    "tags": []
   },
   "outputs": [
    {
     "name": "stderr",
     "output_type": "stream",
     "text": [
      "100%|██████████| 9550/9550 [12:12<00:00, 13.04it/s]\n"
     ]
    }
   ],
   "source": [
    "from tqdm import tqdm\n",
    "import re\n",
    "import nltk\n",
    "from nltk.corpus import stopwords\n",
    "from nltk.tokenize import word_tokenize\n",
    "\n",
    "def preprocess_text(text_data):\n",
    "    preprocessed_text = []\n",
    "      \n",
    "    for sentence in tqdm(text_data):\n",
    "        sentence = re.sub(r'[^\\w\\s]', '', sentence)\n",
    "        preprocessed_text.append(' '.join(token.lower()\n",
    "                                  for token in str(sentence).split()\n",
    "                                  if token not in stopwords.words('english')))\n",
    "  \n",
    "    return preprocessed_text\n",
    "\n",
    "df['text'] = preprocess_text(df['text'].values)"
   ]
  },
  {
   "cell_type": "code",
   "execution_count": 6,
   "id": "c3768ead",
   "metadata": {
    "execution": {
     "iopub.execute_input": "2023-08-10T10:03:13.676070Z",
     "iopub.status.busy": "2023-08-10T10:03:13.675173Z",
     "iopub.status.idle": "2023-08-10T10:03:13.680836Z",
     "shell.execute_reply": "2023-08-10T10:03:13.679931Z"
    },
    "papermill": {
     "duration": 0.456748,
     "end_time": "2023-08-10T10:03:13.683182",
     "exception": false,
     "start_time": "2023-08-10T10:03:13.226434",
     "status": "completed"
    },
    "tags": []
   },
   "outputs": [],
   "source": [
    "x=df['text']\n",
    "y=df['label']"
   ]
  },
  {
   "cell_type": "code",
   "execution_count": 7,
   "id": "be556289",
   "metadata": {
    "execution": {
     "iopub.execute_input": "2023-08-10T10:03:14.378784Z",
     "iopub.status.busy": "2023-08-10T10:03:14.378252Z",
     "iopub.status.idle": "2023-08-10T10:03:19.839010Z",
     "shell.execute_reply": "2023-08-10T10:03:19.837820Z"
    },
    "papermill": {
     "duration": 5.811981,
     "end_time": "2023-08-10T10:03:19.842159",
     "exception": false,
     "start_time": "2023-08-10T10:03:14.030178",
     "status": "completed"
    },
    "tags": []
   },
   "outputs": [],
   "source": [
    "x_train, x_test, y_train, y_test = train_test_split(x, y, test_size=0.2)\n",
    "\n",
    "from sklearn.feature_extraction.text import CountVectorizer, TfidfVectorizer, TfidfTransformer\n",
    "from sklearn.linear_model import LogisticRegression, PassiveAggressiveClassifier\n",
    "from sklearn.ensemble import GradientBoostingClassifier, RandomForestClassifier\n",
    "\n",
    "from imblearn.pipeline import make_pipeline as make_pipeline_imb\n",
    "from imblearn.under_sampling import RandomUnderSampler\n",
    "from imblearn.over_sampling  import RandomOverSampler\n",
    "\n",
    "model = make_pipeline_imb(TfidfVectorizer(), RandomUnderSampler(), PassiveAggressiveClassifier())\n",
    "\n",
    "model.fit(x_train, y_train)\n",
    "y_pred = model.predict(x_test)"
   ]
  },
  {
   "cell_type": "code",
   "execution_count": 8,
   "id": "daae661e",
   "metadata": {
    "execution": {
     "iopub.execute_input": "2023-08-10T10:03:20.560884Z",
     "iopub.status.busy": "2023-08-10T10:03:20.560361Z",
     "iopub.status.idle": "2023-08-10T10:03:20.580335Z",
     "shell.execute_reply": "2023-08-10T10:03:20.578700Z"
    },
    "papermill": {
     "duration": 0.379778,
     "end_time": "2023-08-10T10:03:20.582784",
     "exception": false,
     "start_time": "2023-08-10T10:03:20.203006",
     "status": "completed"
    },
    "tags": []
   },
   "outputs": [
    {
     "name": "stdout",
     "output_type": "stream",
     "text": [
      "              precision    recall  f1-score   support\n",
      "\n",
      "           0       0.45      0.86      0.59       263\n",
      "           1       0.97      0.83      0.90      1647\n",
      "\n",
      "    accuracy                           0.83      1910\n",
      "   macro avg       0.71      0.84      0.74      1910\n",
      "weighted avg       0.90      0.83      0.85      1910\n",
      "\n"
     ]
    }
   ],
   "source": [
    "print(classification_report(y_test, y_pred))"
   ]
  },
  {
   "cell_type": "code",
   "execution_count": 9,
   "id": "4e9b4e6a",
   "metadata": {
    "execution": {
     "iopub.execute_input": "2023-08-10T10:03:21.289610Z",
     "iopub.status.busy": "2023-08-10T10:03:21.288766Z",
     "iopub.status.idle": "2023-08-10T10:03:22.897651Z",
     "shell.execute_reply": "2023-08-10T10:03:22.896127Z"
    },
    "papermill": {
     "duration": 1.962856,
     "end_time": "2023-08-10T10:03:22.900519",
     "exception": false,
     "start_time": "2023-08-10T10:03:20.937663",
     "status": "completed"
    },
    "tags": []
   },
   "outputs": [
    {
     "data": {
      "text/html": [
       "<div>\n",
       "<style scoped>\n",
       "    .dataframe tbody tr th:only-of-type {\n",
       "        vertical-align: middle;\n",
       "    }\n",
       "\n",
       "    .dataframe tbody tr th {\n",
       "        vertical-align: top;\n",
       "    }\n",
       "\n",
       "    .dataframe thead th {\n",
       "        text-align: right;\n",
       "    }\n",
       "</style>\n",
       "<table border=\"1\" class=\"dataframe\">\n",
       "  <thead>\n",
       "    <tr style=\"text-align: right;\">\n",
       "      <th></th>\n",
       "      <th>id</th>\n",
       "      <th>title</th>\n",
       "      <th>text</th>\n",
       "      <th>all</th>\n",
       "    </tr>\n",
       "  </thead>\n",
       "  <tbody>\n",
       "    <tr>\n",
       "      <th>0</th>\n",
       "      <td>41786</td>\n",
       "      <td>Ancient Sumerian Writings Reveal The Earth Was...</td>\n",
       "      <td>Ancient Sumerian Writings Reveal The Earth Was...</td>\n",
       "      <td>Ancient Sumerian Writings Reveal The Earth Was...</td>\n",
       "    </tr>\n",
       "    <tr>\n",
       "      <th>1</th>\n",
       "      <td>37965</td>\n",
       "      <td>Gianno Caldwell Claims Hillary Only Cares Abou...</td>\n",
       "      <td>BREAKING: Trump Set to Break 50-Year-Old Recor...</td>\n",
       "      <td>Gianno Caldwell Claims Hillary Only Cares Abou...</td>\n",
       "    </tr>\n",
       "    <tr>\n",
       "      <th>2</th>\n",
       "      <td>55351</td>\n",
       "      <td>Must be impeach of a hand</td>\n",
       "      <td>Must be impeach of a hand page: 1 link Minglin...</td>\n",
       "      <td>Must be impeach of a handMust be impeach of a ...</td>\n",
       "    </tr>\n",
       "    <tr>\n",
       "      <th>3</th>\n",
       "      <td>21861</td>\n",
       "      <td>3 Hollywood Films For Blue-Pill Men That Reinf...</td>\n",
       "      <td>3 Hollywood Films For Blue-Pill Men That Rei...</td>\n",
       "      <td>3 Hollywood Films For Blue-Pill Men That Reinf...</td>\n",
       "    </tr>\n",
       "    <tr>\n",
       "      <th>4</th>\n",
       "      <td>67931</td>\n",
       "      <td>This Viral Video Has Hillary Running Scared</td>\n",
       "      <td>This Viral Video Has Hillary Running Scared Th...</td>\n",
       "      <td>This Viral Video Has Hillary Running ScaredThi...</td>\n",
       "    </tr>\n",
       "    <tr>\n",
       "      <th>5</th>\n",
       "      <td>41142</td>\n",
       "      <td>GEORGE SOROS: TRUMP WILL WIN POPULAR VOTE IN ‘...</td>\n",
       "      <td>EMAIL US: CONTACT@GOVTSLAVES.INFO Home › POLIT...</td>\n",
       "      <td>GEORGE SOROS: TRUMP WILL WIN POPULAR VOTE IN ‘...</td>\n",
       "    </tr>\n",
       "    <tr>\n",
       "      <th>6</th>\n",
       "      <td>31225</td>\n",
       "      <td>TRANSPORTATION SECRETARY: Unequal Distribution...</td>\n",
       "      <td>Are we sure this guy is actually qualified for...</td>\n",
       "      <td>TRANSPORTATION SECRETARY: Unequal Distribution...</td>\n",
       "    </tr>\n",
       "    <tr>\n",
       "      <th>7</th>\n",
       "      <td>14133</td>\n",
       "      <td>Comment on Senator NUKES Clinton Foundation, C...</td>\n",
       "      <td>Home / Be The Change / Government Corruption /...</td>\n",
       "      <td>Comment on Senator NUKES Clinton Foundation, C...</td>\n",
       "    </tr>\n",
       "    <tr>\n",
       "      <th>8</th>\n",
       "      <td>51741</td>\n",
       "      <td>US: Kurdish Troops Will Be Involved in Invadin...</td>\n",
       "      <td>Turkish Objections Won't Stop YPG's Involvemen...</td>\n",
       "      <td>US: Kurdish Troops Will Be Involved in Invadin...</td>\n",
       "    </tr>\n",
       "    <tr>\n",
       "      <th>9</th>\n",
       "      <td>60395</td>\n",
       "      <td>COMEDY GOLD ON DETROIT NEWS: “Willy” Dumps His...</td>\n",
       "      <td>Charlie LeDuff is legend in Detroit but this i...</td>\n",
       "      <td>COMEDY GOLD ON DETROIT NEWS: “Willy” Dumps His...</td>\n",
       "    </tr>\n",
       "  </tbody>\n",
       "</table>\n",
       "</div>"
      ],
      "text/plain": [
       "      id                                              title  \\\n",
       "0  41786  Ancient Sumerian Writings Reveal The Earth Was...   \n",
       "1  37965  Gianno Caldwell Claims Hillary Only Cares Abou...   \n",
       "2  55351                          Must be impeach of a hand   \n",
       "3  21861  3 Hollywood Films For Blue-Pill Men That Reinf...   \n",
       "4  67931        This Viral Video Has Hillary Running Scared   \n",
       "5  41142  GEORGE SOROS: TRUMP WILL WIN POPULAR VOTE IN ‘...   \n",
       "6  31225  TRANSPORTATION SECRETARY: Unequal Distribution...   \n",
       "7  14133  Comment on Senator NUKES Clinton Foundation, C...   \n",
       "8  51741  US: Kurdish Troops Will Be Involved in Invadin...   \n",
       "9  60395  COMEDY GOLD ON DETROIT NEWS: “Willy” Dumps His...   \n",
       "\n",
       "                                                text  \\\n",
       "0  Ancient Sumerian Writings Reveal The Earth Was...   \n",
       "1  BREAKING: Trump Set to Break 50-Year-Old Recor...   \n",
       "2  Must be impeach of a hand page: 1 link Minglin...   \n",
       "3    3 Hollywood Films For Blue-Pill Men That Rei...   \n",
       "4  This Viral Video Has Hillary Running Scared Th...   \n",
       "5  EMAIL US: CONTACT@GOVTSLAVES.INFO Home › POLIT...   \n",
       "6  Are we sure this guy is actually qualified for...   \n",
       "7  Home / Be The Change / Government Corruption /...   \n",
       "8  Turkish Objections Won't Stop YPG's Involvemen...   \n",
       "9  Charlie LeDuff is legend in Detroit but this i...   \n",
       "\n",
       "                                                 all  \n",
       "0  Ancient Sumerian Writings Reveal The Earth Was...  \n",
       "1  Gianno Caldwell Claims Hillary Only Cares Abou...  \n",
       "2  Must be impeach of a handMust be impeach of a ...  \n",
       "3  3 Hollywood Films For Blue-Pill Men That Reinf...  \n",
       "4  This Viral Video Has Hillary Running ScaredThi...  \n",
       "5  GEORGE SOROS: TRUMP WILL WIN POPULAR VOTE IN ‘...  \n",
       "6  TRANSPORTATION SECRETARY: Unequal Distribution...  \n",
       "7  Comment on Senator NUKES Clinton Foundation, C...  \n",
       "8  US: Kurdish Troops Will Be Involved in Invadin...  \n",
       "9  COMEDY GOLD ON DETROIT NEWS: “Willy” Dumps His...  "
      ]
     },
     "execution_count": 9,
     "metadata": {},
     "output_type": "execute_result"
    }
   ],
   "source": [
    "test=pd.read_csv('/kaggle/input/truth-seekers/test.csv')\n",
    "test.head(10)"
   ]
  },
  {
   "cell_type": "code",
   "execution_count": 10,
   "id": "7043b13e",
   "metadata": {
    "execution": {
     "iopub.execute_input": "2023-08-10T10:03:23.644539Z",
     "iopub.status.busy": "2023-08-10T10:03:23.644073Z",
     "iopub.status.idle": "2023-08-10T10:13:15.646695Z",
     "shell.execute_reply": "2023-08-10T10:13:15.644965Z"
    },
    "papermill": {
     "duration": 592.388545,
     "end_time": "2023-08-10T10:13:15.653899",
     "exception": false,
     "start_time": "2023-08-10T10:03:23.265354",
     "status": "completed"
    },
    "tags": []
   },
   "outputs": [
    {
     "name": "stderr",
     "output_type": "stream",
     "text": [
      "100%|██████████| 7888/7888 [09:51<00:00, 13.32it/s]\n"
     ]
    }
   ],
   "source": [
    "test['text'] = preprocess_text(test['text'].values)"
   ]
  },
  {
   "cell_type": "code",
   "execution_count": 11,
   "id": "b296951f",
   "metadata": {
    "execution": {
     "iopub.execute_input": "2023-08-10T10:13:17.062321Z",
     "iopub.status.busy": "2023-08-10T10:13:17.061859Z",
     "iopub.status.idle": "2023-08-10T10:13:20.381396Z",
     "shell.execute_reply": "2023-08-10T10:13:20.380065Z"
    },
    "papermill": {
     "duration": 4.040878,
     "end_time": "2023-08-10T10:13:20.384928",
     "exception": false,
     "start_time": "2023-08-10T10:13:16.344050",
     "status": "completed"
    },
    "tags": []
   },
   "outputs": [],
   "source": [
    "test['label']=model.predict(test['text'])"
   ]
  },
  {
   "cell_type": "code",
   "execution_count": 12,
   "id": "258f1803",
   "metadata": {
    "execution": {
     "iopub.execute_input": "2023-08-10T10:13:21.666482Z",
     "iopub.status.busy": "2023-08-10T10:13:21.665574Z",
     "iopub.status.idle": "2023-08-10T10:13:21.681083Z",
     "shell.execute_reply": "2023-08-10T10:13:21.680187Z"
    },
    "papermill": {
     "duration": 0.65286,
     "end_time": "2023-08-10T10:13:21.683540",
     "exception": false,
     "start_time": "2023-08-10T10:13:21.030680",
     "status": "completed"
    },
    "tags": []
   },
   "outputs": [
    {
     "data": {
      "text/html": [
       "<div>\n",
       "<style scoped>\n",
       "    .dataframe tbody tr th:only-of-type {\n",
       "        vertical-align: middle;\n",
       "    }\n",
       "\n",
       "    .dataframe tbody tr th {\n",
       "        vertical-align: top;\n",
       "    }\n",
       "\n",
       "    .dataframe thead th {\n",
       "        text-align: right;\n",
       "    }\n",
       "</style>\n",
       "<table border=\"1\" class=\"dataframe\">\n",
       "  <thead>\n",
       "    <tr style=\"text-align: right;\">\n",
       "      <th></th>\n",
       "      <th>id</th>\n",
       "      <th>title</th>\n",
       "      <th>text</th>\n",
       "      <th>all</th>\n",
       "      <th>label</th>\n",
       "    </tr>\n",
       "  </thead>\n",
       "  <tbody>\n",
       "    <tr>\n",
       "      <th>0</th>\n",
       "      <td>41786</td>\n",
       "      <td>Ancient Sumerian Writings Reveal The Earth Was...</td>\n",
       "      <td>ancient sumerian writings reveal the earth was...</td>\n",
       "      <td>Ancient Sumerian Writings Reveal The Earth Was...</td>\n",
       "      <td>1</td>\n",
       "    </tr>\n",
       "    <tr>\n",
       "      <th>1</th>\n",
       "      <td>37965</td>\n",
       "      <td>Gianno Caldwell Claims Hillary Only Cares Abou...</td>\n",
       "      <td>breaking trump set break 50yearold record with...</td>\n",
       "      <td>Gianno Caldwell Claims Hillary Only Cares Abou...</td>\n",
       "      <td>1</td>\n",
       "    </tr>\n",
       "    <tr>\n",
       "      <th>2</th>\n",
       "      <td>55351</td>\n",
       "      <td>Must be impeach of a hand</td>\n",
       "      <td>must impeach hand page 1 link mingling thought...</td>\n",
       "      <td>Must be impeach of a handMust be impeach of a ...</td>\n",
       "      <td>0</td>\n",
       "    </tr>\n",
       "    <tr>\n",
       "      <th>3</th>\n",
       "      <td>21861</td>\n",
       "      <td>3 Hollywood Films For Blue-Pill Men That Reinf...</td>\n",
       "      <td>3 hollywood films for bluepill men that reinfo...</td>\n",
       "      <td>3 Hollywood Films For Blue-Pill Men That Reinf...</td>\n",
       "      <td>0</td>\n",
       "    </tr>\n",
       "    <tr>\n",
       "      <th>4</th>\n",
       "      <td>67931</td>\n",
       "      <td>This Viral Video Has Hillary Running Scared</td>\n",
       "      <td>this viral video has hillary running scared th...</td>\n",
       "      <td>This Viral Video Has Hillary Running ScaredThi...</td>\n",
       "      <td>1</td>\n",
       "    </tr>\n",
       "    <tr>\n",
       "      <th>5</th>\n",
       "      <td>41142</td>\n",
       "      <td>GEORGE SOROS: TRUMP WILL WIN POPULAR VOTE IN ‘...</td>\n",
       "      <td>email us contactgovtslavesinfo home politics u...</td>\n",
       "      <td>GEORGE SOROS: TRUMP WILL WIN POPULAR VOTE IN ‘...</td>\n",
       "      <td>1</td>\n",
       "    </tr>\n",
       "    <tr>\n",
       "      <th>6</th>\n",
       "      <td>31225</td>\n",
       "      <td>TRANSPORTATION SECRETARY: Unequal Distribution...</td>\n",
       "      <td>are sure guy actually qualified job everything...</td>\n",
       "      <td>TRANSPORTATION SECRETARY: Unequal Distribution...</td>\n",
       "      <td>1</td>\n",
       "    </tr>\n",
       "    <tr>\n",
       "      <th>7</th>\n",
       "      <td>14133</td>\n",
       "      <td>Comment on Senator NUKES Clinton Foundation, C...</td>\n",
       "      <td>home be the change government corruption senat...</td>\n",
       "      <td>Comment on Senator NUKES Clinton Foundation, C...</td>\n",
       "      <td>0</td>\n",
       "    </tr>\n",
       "    <tr>\n",
       "      <th>8</th>\n",
       "      <td>51741</td>\n",
       "      <td>US: Kurdish Troops Will Be Involved in Invadin...</td>\n",
       "      <td>turkish objections wont stop ypgs involvement ...</td>\n",
       "      <td>US: Kurdish Troops Will Be Involved in Invadin...</td>\n",
       "      <td>1</td>\n",
       "    </tr>\n",
       "    <tr>\n",
       "      <th>9</th>\n",
       "      <td>60395</td>\n",
       "      <td>COMEDY GOLD ON DETROIT NEWS: “Willy” Dumps His...</td>\n",
       "      <td>charlie leduff legend detroit classic</td>\n",
       "      <td>COMEDY GOLD ON DETROIT NEWS: “Willy” Dumps His...</td>\n",
       "      <td>0</td>\n",
       "    </tr>\n",
       "  </tbody>\n",
       "</table>\n",
       "</div>"
      ],
      "text/plain": [
       "      id                                              title  \\\n",
       "0  41786  Ancient Sumerian Writings Reveal The Earth Was...   \n",
       "1  37965  Gianno Caldwell Claims Hillary Only Cares Abou...   \n",
       "2  55351                          Must be impeach of a hand   \n",
       "3  21861  3 Hollywood Films For Blue-Pill Men That Reinf...   \n",
       "4  67931        This Viral Video Has Hillary Running Scared   \n",
       "5  41142  GEORGE SOROS: TRUMP WILL WIN POPULAR VOTE IN ‘...   \n",
       "6  31225  TRANSPORTATION SECRETARY: Unequal Distribution...   \n",
       "7  14133  Comment on Senator NUKES Clinton Foundation, C...   \n",
       "8  51741  US: Kurdish Troops Will Be Involved in Invadin...   \n",
       "9  60395  COMEDY GOLD ON DETROIT NEWS: “Willy” Dumps His...   \n",
       "\n",
       "                                                text  \\\n",
       "0  ancient sumerian writings reveal the earth was...   \n",
       "1  breaking trump set break 50yearold record with...   \n",
       "2  must impeach hand page 1 link mingling thought...   \n",
       "3  3 hollywood films for bluepill men that reinfo...   \n",
       "4  this viral video has hillary running scared th...   \n",
       "5  email us contactgovtslavesinfo home politics u...   \n",
       "6  are sure guy actually qualified job everything...   \n",
       "7  home be the change government corruption senat...   \n",
       "8  turkish objections wont stop ypgs involvement ...   \n",
       "9              charlie leduff legend detroit classic   \n",
       "\n",
       "                                                 all  label  \n",
       "0  Ancient Sumerian Writings Reveal The Earth Was...      1  \n",
       "1  Gianno Caldwell Claims Hillary Only Cares Abou...      1  \n",
       "2  Must be impeach of a handMust be impeach of a ...      0  \n",
       "3  3 Hollywood Films For Blue-Pill Men That Reinf...      0  \n",
       "4  This Viral Video Has Hillary Running ScaredThi...      1  \n",
       "5  GEORGE SOROS: TRUMP WILL WIN POPULAR VOTE IN ‘...      1  \n",
       "6  TRANSPORTATION SECRETARY: Unequal Distribution...      1  \n",
       "7  Comment on Senator NUKES Clinton Foundation, C...      0  \n",
       "8  US: Kurdish Troops Will Be Involved in Invadin...      1  \n",
       "9  COMEDY GOLD ON DETROIT NEWS: “Willy” Dumps His...      0  "
      ]
     },
     "execution_count": 12,
     "metadata": {},
     "output_type": "execute_result"
    }
   ],
   "source": [
    "test.head(10)"
   ]
  },
  {
   "cell_type": "code",
   "execution_count": 13,
   "id": "9a7b985e",
   "metadata": {
    "execution": {
     "iopub.execute_input": "2023-08-10T10:13:23.070479Z",
     "iopub.status.busy": "2023-08-10T10:13:23.069683Z",
     "iopub.status.idle": "2023-08-10T10:13:23.102980Z",
     "shell.execute_reply": "2023-08-10T10:13:23.101695Z"
    },
    "papermill": {
     "duration": 0.791238,
     "end_time": "2023-08-10T10:13:23.105869",
     "exception": false,
     "start_time": "2023-08-10T10:13:22.314631",
     "status": "completed"
    },
    "tags": []
   },
   "outputs": [],
   "source": [
    "submission = test[['id', 'label']]\n",
    "submission.to_csv('submission.csv', index=False)"
   ]
  }
 ],
 "metadata": {
  "kernelspec": {
   "display_name": "Python 3",
   "language": "python",
   "name": "python3"
  },
  "language_info": {
   "codemirror_mode": {
    "name": "ipython",
    "version": 3
   },
   "file_extension": ".py",
   "mimetype": "text/x-python",
   "name": "python",
   "nbconvert_exporter": "python",
   "pygments_lexer": "ipython3",
   "version": "3.10.12"
  },
  "papermill": {
   "default_parameters": {},
   "duration": 1360.56248,
   "end_time": "2023-08-10T10:13:25.196447",
   "environment_variables": {},
   "exception": null,
   "input_path": "__notebook__.ipynb",
   "output_path": "__notebook__.ipynb",
   "parameters": {},
   "start_time": "2023-08-10T09:50:44.633967",
   "version": "2.4.0"
  }
 },
 "nbformat": 4,
 "nbformat_minor": 5
}
